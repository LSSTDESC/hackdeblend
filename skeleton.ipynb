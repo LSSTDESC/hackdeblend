{
 "cells": [
  {
   "cell_type": "markdown",
   "metadata": {},
   "source": [
    "_Alex Malz (NYU)_\n",
    "\n",
    "_(Add your name here when contributing.)_\n",
    "\n",
    "# Hack 'de Blend\n",
    "\n",
    "This notebook outlines an approach to studying the systematics of Erin Sheldon's MOF pipeline due to blending as a function of (1) nearest neighbor distance and (2) nearest neighbor flux/magnitude."
   ]
  },
  {
   "cell_type": "markdown",
   "metadata": {},
   "source": [
    "_This would be easier if we could run this notebook on NERSC, but I don't know how to do that._"
   ]
  },
  {
   "cell_type": "markdown",
   "metadata": {},
   "source": [
    "## Data\n",
    "\n",
    "The data lives [on NERSC](/global/projecta/projectdirs/lsst/groups/WL/users/esheldon/nbrsim-outputs/collated/) and includes the following information in 5 150 GB `FITS` tables:"
   ]
  },
  {
   "cell_type": "markdown",
   "metadata": {},
   "source": [
    "__HDU 0__:\n",
    "\n",
    "SIMPLE  =                    T / file does conform to FITS standard\n",
    "\n",
    "BITPIX  =                   16 / number of bits per data pixel\n",
    "\n",
    "NAXIS   =                    0 / number of data axes\n",
    "\n",
    "EXTEND  =                    T / FITS dataset may contain extensions\n",
    "\n",
    "COMMENT   FITS (Flexible Image Transport System) format is defined in 'Astronomy\n",
    "\n",
    "COMMENT   and Astrophysics', volume 376, page 359; bibcode: 2001A&A...376..359H"
   ]
  },
  {
   "cell_type": "markdown",
   "metadata": {},
   "source": [
    "__HDU 1__:\n",
    "\n",
    "XTENSION= 'BINTABLE'           / binary table extension\n",
    "\n",
    "BITPIX  =                    8 / 8-bit bytes\n",
    "\n",
    "NAXIS   =                    2 / 2-dimensional binary table\n",
    "\n",
    "NAXIS1  =                 3040 / width of table in bytes\n",
    "\n",
    "NAXIS2  =             52433036 / number of rows in table\n",
    "\n",
    "PCOUNT  =                    0 / size of special data area\n",
    "\n",
    "GCOUNT  =                    1 / one data group (required keyword)\n",
    "\n",
    "TFIELDS =                   80 / number of fields in each row\n",
    "\n",
    "TTYPE1  = 'id      '           / label for field   1\n",
    "\n",
    "<TFORM1  = 'K       '           / data format of field: 8-byte INTEGER>\n",
    "\n",
    "TTYPE2  = 'number  '           / label for field   2\n",
    "\n",
    "<TFORM2  = 'J       '           / data format of field: 4-byte INTEGER>\n",
    "\n",
    "TTYPE3  = 'ra      '           / label for field   3\n",
    "\n",
    "<TFORM3  = 'D       '           / data format of field: 8-byte DOUBLE>\n",
    "\n",
    "TTYPE4  = 'dec     '           / label for field   4\n",
    "\n",
    "<TFORM4  = 'D       '           / data format of field: 8-byte DOUBLE>\n",
    "\n",
    "TTYPE5  = 'nimage_tot'         / label for field   5\n",
    "\n",
    "<TFORM5  = 'J       '           / data format of field: 4-byte INTEGER>\n",
    "\n",
    "TTYPE6  = 'fofid   '           / label for field   6\n",
    "\n",
    "<TFORM6  = 'K       '           / data format of field: 8-byte INTEGER>\n",
    "\n",
    "TTYPE7  = 'flags   '           / label for field   7\n",
    "\n",
    "<TFORM7  = 'J       '           / data format of field: 4-byte INTEGER>\n",
    "\n",
    "TTYPE8  = 'time_last_fit'      / label for field   8\n",
    "\n",
    "<TFORM8  = 'D       '           / data format of field: 8-byte DOUBLE>\n",
    "\n",
    "TTYPE9  = 'box_size'           / label for field   9\n",
    "\n",
    "<TFORM9  = 'I       '           / data format of field: 2-byte INTEGER>\n",
    "\n",
    "TTYPE10 = 'obj_flags'          / label for field  10\n",
    "\n",
    "<TFORM10 = 'J       '           / data format of field: 4-byte INTEGER>\n",
    "\n",
    "TTYPE11 = 'psf_flags'          / label for field  11\n",
    "\n",
    "<TFORM11 = 'J       '           / data format of field: 4-byte INTEGER>\n",
    "\n",
    "TTYPE12 = 'psf_flux'           / label for field  12\n",
    "\n",
    "<TFORM12 = 'D       '           / data format of field: 8-byte DOUBLE>\n",
    "\n",
    "TTYPE13 = 'psf_flux_err'       / label for field  13\n",
    "\n",
    "<TFORM13 = 'D       '           / data format of field: 8-byte DOUBLE>\n",
    "\n",
    "TTYPE14 = 'psf_flux_s2n'       / label for field  14\n",
    "\n",
    "<TFORM14 = 'D       '           / data format of field: 8-byte DOUBLE>\n",
    "\n",
    "TTYPE15 = 'nimage_use'         / label for field  15\n",
    "\n",
    "<TFORM15 = 'J       '           / data format of field: 4-byte INTEGER>\n",
    "\n",
    "TTYPE16 = 'mask_frac'          / label for field  16\n",
    "\n",
    "<TFORM16 = 'D       '           / data format of field: 8-byte DOUBLE>\n",
    "\n",
    "TTYPE17 = 'psfrec_T'           / label for field  17\n",
    "\n",
    "<TFORM17 = 'D       '           / data format of field: 8-byte DOUBLE>\n",
    "\n",
    "TTYPE18 = 'psfrec_g'           / label for field  18\n",
    "\n",
    "<TFORM18 = '2D      '           / data format of field: 8-byte DOUBLE>\n",
    "\n",
    "TTYPE19 = 'gauss_flags'        / label for field  19\n",
    "\n",
    "<TFORM19 = 'J       '           / data format of field: 4-byte INTEGER>\n",
    "\n",
    "TTYPE20 = 'gauss_pars'         / label for field  20\n",
    "\n",
    "<TFORM20 = '6D      '           / data format of field: 8-byte DOUBLE>\n",
    "\n",
    "TTYPE21 = 'gauss_pars_cov'     / label for field  21\n",
    "\n",
    "<TFORM21 = '36D     '           / data format of field: 8-byte DOUBLE>\n",
    "\n",
    "TTYPE22 = 'gauss_g '           / label for field  22\n",
    "\n",
    "<TFORM22 = '2D      '           / data format of field: 8-byte DOUBLE>\n",
    "\n",
    "TTYPE23 = 'gauss_g_cov'        / label for field  23\n",
    "\n",
    "<TFORM23 = '4D      '           / data format of field: 8-byte DOUBLE>\n",
    "\n",
    "TTYPE24 = 'gauss_max_flags'    / label for field  24\n",
    "\n",
    "<TFORM24 = 'J       '           / data format of field: 4-byte INTEGER>\n",
    "\n",
    "TTYPE25 = 'gauss_max_pars'     / label for field  25\n",
    "\n",
    "<TFORM25 = '6D      '           / data format of field: 8-byte DOUBLE>\n",
    "\n",
    "TTYPE26 = 'gauss_max_pars_cov' / label for field  26\n",
    "\n",
    "<TFORM26 = '36D     '           / data format of field: 8-byte DOUBLE>\n",
    "\n",
    "TTYPE27 = 'gauss_s2n_w'        / label for field  27\n",
    "\n",
    "<TFORM27 = 'D       '           / data format of field: 8-byte DOUBLE>\n",
    "\n",
    "TTYPE28 = 'gauss_chi2per'      / label for field  28\n",
    "\n",
    "<TFORM28 = 'D       '           / data format of field: 8-byte DOUBLE>\n",
    "\n",
    "TTYPE29 = 'gauss_dof'          / label for field  29\n",
    "\n",
    "<TFORM29 = 'D       '           / data format of field: 8-byte DOUBLE>\n",
    "\n",
    "TTYPE30 = 'gauss_flags_r'      / label for field  30\n",
    "\n",
    "<TFORM30 = 'J       '           / data format of field: 4-byte INTEGER>\n",
    "\n",
    "TTYPE31 = 'gauss_s2n_r'        / label for field  31\n",
    "\n",
    "<TFORM31 = 'D       '           / data format of field: 8-byte DOUBLE>\n",
    "\n",
    "TTYPE32 = 'gauss_T_r'          / label for field  32\n",
    "\n",
    "<TFORM32 = 'D       '           / data format of field: 8-byte DOUBLE>\n",
    "\n",
    "TTYPE33 = 'gauss_psf_T_r'      / label for field  33\n",
    "\n",
    "<TFORM33 = 'D       '           / data format of field: 8-byte DOUBLE>\n",
    "\n",
    "TTYPE34 = 'mcal_flags'         / label for field  34\n",
    "\n",
    "<TFORM34 = 'K       '           / data format of field: 8-byte INTEGER>\n",
    "\n",
    "TTYPE35 = 'mcal_g  '           / label for field  35\n",
    "\n",
    "<TFORM35 = '2D      '           / data format of field: 8-byte DOUBLE>\n",
    "\n",
    "TTYPE36 = 'mcal_g_cov'         / label for field  36\n",
    "\n",
    "<TFORM36 = '4D      '           / data format of field: 8-byte DOUBLE>\n",
    "\n",
    "TTYPE37 = 'mcal_pars'          / label for field  37\n",
    "\n",
    "<TFORM37 = '6D      '           / data format of field: 8-byte DOUBLE>\n",
    "\n",
    "TTYPE38 = 'mcal_pars_cov'      / label for field  38\n",
    "\n",
    "<TFORM38 = '36D     '           / data format of field: 8-byte DOUBLE>\n",
    "\n",
    "TTYPE39 = 'mcal_gpsf'          / label for field  39\n",
    "\n",
    "<TFORM39 = '2D      '           / data format of field: 8-byte DOUBLE>\n",
    "\n",
    "TTYPE40 = 'mcal_Tpsf'          / label for field  40\n",
    "\n",
    "<TFORM40 = 'D       '           / data format of field: 8-byte DOUBLE>\n",
    "\n",
    "TTYPE41 = 'mcal_T  '           / label for field  41\n",
    "\n",
    "<TFORM41 = 'D       '           / data format of field: 8-byte DOUBLE>\n",
    "\n",
    "TTYPE42 = 'mcal_T_err'         / label for field  42\n",
    "\n",
    "<TFORM42 = 'D       '           / data format of field: 8-byte DOUBLE>\n",
    "\n",
    "TTYPE43 = 'mcal_T_r'           / label for field  43\n",
    "\n",
    "<TFORM43 = 'D       '           / data format of field: 8-byte DOUBLE>\n",
    "\n",
    "TTYPE44 = 'mcal_s2n_r'         / label for field  44\n",
    "\n",
    "<TFORM44 = 'D       '           / data format of field: 8-byte DOUBLE>\n",
    "\n",
    "TTYPE45 = 'mcal_g_1p'          / label for field  45\n",
    "\n",
    "<TFORM45 = '2D      '           / data format of field: 8-byte DOUBLE>\n",
    "\n",
    "TTYPE46 = 'mcal_g_cov_1p'      / label for field  46\n",
    "\n",
    "<TFORM46 = '4D      '           / data format of field: 8-byte DOUBLE>\n",
    "\n",
    "TTYPE47 = 'mcal_pars_1p'       / label for field  47\n",
    "\n",
    "<TFORM47 = '6D      '           / data format of field: 8-byte DOUBLE>\n",
    "\n",
    "TTYPE48 = 'mcal_pars_cov_1p'   / label for field  48\n",
    "\n",
    "<TFORM48 = '36D     '           / data format of field: 8-byte DOUBLE>\n",
    "\n",
    "TTYPE49 = 'mcal_T_1p'          / label for field  49\n",
    "\n",
    "<TFORM49 = 'D       '           / data format of field: 8-byte DOUBLE>\n",
    "\n",
    "TTYPE50 = 'mcal_T_err_1p'      / label for field  50\n",
    "\n",
    "<TFORM50 = 'D       '           / data format of field: 8-byte DOUBLE>\n",
    "\n",
    "TTYPE51 = 'mcal_T_r_1p'        / label for field  51\n",
    "\n",
    "<TFORM51 = 'D       '           / data format of field: 8-byte DOUBLE>\n",
    "\n",
    "TTYPE52 = 'mcal_s2n_r_1p'      / label for field  52\n",
    "\n",
    "<TFORM52 = 'D       '           / data format of field: 8-byte DOUBLE>\n",
    "\n",
    "TTYPE53 = 'mcal_g_1m'          / label for field  53\n",
    "\n",
    "<TFORM53 = '2D      '           / data format of field: 8-byte DOUBLE>\n",
    "\n",
    "TTYPE54 = 'mcal_g_cov_1m'      / label for field  54\n",
    "\n",
    "<TFORM54 = '4D      '           / data format of field: 8-byte DOUBLE>\n",
    "\n",
    "TTYPE55 = 'mcal_pars_1m'       / label for field  55\n",
    "\n",
    "<TFORM55 = '6D      '           / data format of field: 8-byte DOUBLE>\n",
    "\n",
    "TTYPE56 = 'mcal_pars_cov_1m'   / label for field  56\n",
    "\n",
    "<TFORM56 = '36D     '           / data format of field: 8-byte DOUBLE>\n",
    "\n",
    "TTYPE57 = 'mcal_T_1m'          / label for field  57\n",
    "\n",
    "<TFORM57 = 'D       '           / data format of field: 8-byte DOUBLE>\n",
    "\n",
    "TTYPE58 = 'mcal_T_err_1m'      / label for field  58\n",
    "\n",
    "<TFORM58 = 'D       '           / data format of field: 8-byte DOUBLE>\n",
    "\n",
    "TTYPE59 = 'mcal_T_r_1m'        / label for field  59\n",
    "\n",
    "<TFORM59 = 'D       '           / data format of field: 8-byte DOUBLE>\n",
    "\n",
    "TTYPE60 = 'mcal_s2n_r_1m'      / label for field  60\n",
    "\n",
    "<TFORM60 = 'D       '           / data format of field: 8-byte DOUBLE>\n",
    "\n",
    "TTYPE61 = 'mcal_g_2p'          / label for field  61\n",
    "\n",
    "<TFORM61 = '2D      '           / data format of field: 8-byte DOUBLE>\n",
    "\n",
    "TTYPE62 = 'mcal_g_cov_2p'      / label for field  62\n",
    "\n",
    "<TFORM62 = '4D      '           / data format of field: 8-byte DOUBLE>\n",
    "\n",
    "TTYPE63 = 'mcal_pars_2p'       / label for field  63\n",
    "\n",
    "<TFORM63 = '6D      '           / data format of field: 8-byte DOUBLE>\n",
    "\n",
    "TTYPE64 = 'mcal_pars_cov_2p'   / label for field  64\n",
    "\n",
    "<TFORM64 = '36D     '           / data format of field: 8-byte DOUBLE>\n",
    "\n",
    "TTYPE65 = 'mcal_T_2p'          / label for field  65\n",
    "\n",
    "<TFORM65 = 'D       '           / data format of field: 8-byte DOUBLE>\n",
    "\n",
    "TTYPE66 = 'mcal_T_err_2p'      / label for field  66\n",
    "\n",
    "<TFORM66 = 'D       '           / data format of field: 8-byte DOUBLE>\n",
    "\n",
    "TTYPE67 = 'mcal_T_r_2p'        / label for field  67\n",
    "\n",
    "<TFORM67 = 'D       '           / data format of field: 8-byte DOUBLE>\n",
    "\n",
    "TTYPE68 = 'mcal_s2n_r_2p'      / label for field  68\n",
    "\n",
    "<TFORM68 = 'D       '           / data format of field: 8-byte DOUBLE>\n",
    "\n",
    "TTYPE69 = 'mcal_g_2m'          / label for field  69\n",
    "\n",
    "<TFORM69 = '2D      '           / data format of field: 8-byte DOUBLE>\n",
    "\n",
    "TTYPE70 = 'mcal_g_cov_2m'      / label for field  70\n",
    "\n",
    "<TFORM70 = '4D      '           / data format of field: 8-byte DOUBLE>\n",
    "\n",
    "TTYPE71 = 'mcal_pars_2m'       / label for field  71\n",
    "\n",
    "<TFORM71 = '6D      '           / data format of field: 8-byte DOUBLE>\n",
    "\n",
    "TTYPE72 = 'mcal_pars_cov_2m'   / label for field  72\n",
    "\n",
    "<TFORM72 = '36D     '           / data format of field: 8-byte DOUBLE>\n",
    "\n",
    "TTYPE73 = 'mcal_T_2m'          / label for field  73\n",
    "\n",
    "<TFORM73 = 'D       '           / data format of field: 8-byte DOUBLE>\n",
    "\n",
    "TTYPE74 = 'mcal_T_err_2m'      / label for field  74\n",
    "\n",
    "<TFORM74 = 'D       '           / data format of field: 8-byte DOUBLE>\n",
    "\n",
    "TTYPE75 = 'mcal_T_r_2m'        / label for field  75\n",
    "\n",
    "<TFORM75 = 'D       '           / data format of field: 8-byte DOUBLE>\n",
    "\n",
    "TTYPE76 = 'mcal_s2n_r_2m'      / label for field  76\n",
    "\n",
    "<TFORM76 = 'D       '           / data format of field: 8-byte DOUBLE>\n",
    "\n",
    "TTYPE77 = 'sxflags '           / label for field  77\n",
    "\n",
    "<TFORM77 = 'J       '           / data format of field: 4-byte INTEGER>\n",
    "\n",
    "TTYPE78 = 'shear_true'         / label for field  78\n",
    "\n",
    "<TFORM78 = '2D      '           / data format of field: 8-byte DOUBLE>\n",
    "\n",
    "TTYPE79 = 'shear_index'        / label for field  79\n",
    "\n",
    "<TFORM79 = 'I       '           / data format of field: 2-byte INTEGER>\n",
    "\n",
    "TTYPE80 = 'file_id '           / label for field  80\n",
    "\n",
    "<TFORM80 = 'J       '           / data format of field: 4-byte INTEGER>"
   ]
  },
  {
   "cell_type": "markdown",
   "metadata": {},
   "source": [
    "_To start, I don't know what many of these columns mean!_"
   ]
  },
  {
   "cell_type": "code",
   "execution_count": 3,
   "metadata": {},
   "outputs": [],
   "source": [
    "import fitsio\n",
    "import numpy as np\n",
    "import glob\n",
    "import os\n",
    "data_dir = '/global/projecta/projectdirs/lsst/groups/WL/users/esheldon/nbrsim-outputs/collated/'\n",
    "filename = glob.glob(os.path.join(data_dir,'*.fits'))\n",
    "file_id = fitsio.read(str(filename[0]), columns='file_id')\n",
    "uids = np.unique(file_id)\n",
    "for uid in uids:\n",
    "    w, = np.where(file_id == uid)\n",
    "    data = fitsio.read(filename[0], rows=w)"
   ]
  },
  {
   "cell_type": "code",
   "execution_count": 12,
   "metadata": {},
   "outputs": [
    {
     "name": "stdout",
     "output_type": "stream",
     "text": [
      "/global/projecta/projectdirs/lsst/groups/WL/users/esheldon/nbrsim-outputs/collated/run-003b-max001.fits\n"
     ]
    }
   ],
   "source": [
    "print(filename[0])"
   ]
  },
  {
   "cell_type": "code",
   "execution_count": 15,
   "metadata": {},
   "outputs": [
    {
     "data": {
      "text/plain": [
       "array([ 289.38328095,  289.35200274,  289.42632974, ...,  289.48788002,\n",
       "        289.66098872,  289.52271482])"
      ]
     },
     "execution_count": 15,
     "metadata": {},
     "output_type": "execute_result"
    }
   ],
   "source": [
    "data['ra']"
   ]
  },
  {
   "cell_type": "code",
   "execution_count": 13,
   "metadata": {},
   "outputs": [],
   "source": [
    "np.save('/global/cscratch1/sd/jsanch87/run-003b-max001_data_arr',data)"
   ]
  },
  {
   "cell_type": "markdown",
   "metadata": {},
   "source": [
    "For now in `$SCRATCH`, eventually we can "
   ]
  },
  {
   "cell_type": "markdown",
   "metadata": {},
   "source": [
    "## Calculating nearest neighbor statistics\n"
   ]
  },
  {
   "cell_type": "markdown",
   "metadata": {},
   "source": [
    "### Finding the nearest neighbor"
   ]
  },
  {
   "cell_type": "markdown",
   "metadata": {},
   "source": [
    "We use a KDTree to get the nearest neighbors since this is way faster than using the brute-force approach"
   ]
  },
  {
   "cell_type": "code",
   "execution_count": 14,
   "metadata": {},
   "outputs": [],
   "source": [
    "from sklearn.neighbors import KDTree"
   ]
  },
  {
   "cell_type": "markdown",
   "metadata": {},
   "source": [
    "The declination axis is not actually flat so we use the sine to use a pure euclidean distance"
   ]
  },
  {
   "cell_type": "code",
   "execution_count": 26,
   "metadata": {},
   "outputs": [],
   "source": [
    "X = np.array((data['ra']*np.pi/180,np.sin(data['dec']*np.pi/180))).transpose()\n",
    "tree = KDTree(X,metric='euclidean')"
   ]
  },
  {
   "cell_type": "markdown",
   "metadata": {},
   "source": [
    "### Getting the distance to the nearest neighbor"
   ]
  },
  {
   "cell_type": "markdown",
   "metadata": {},
   "source": [
    "We query just for the first two nearest neighbors (the first one is the object itself)"
   ]
  },
  {
   "cell_type": "code",
   "execution_count": 31,
   "metadata": {},
   "outputs": [],
   "source": [
    "distance, indices = tree.query(X, k=2, return_distance=True)"
   ]
  },
  {
   "cell_type": "markdown",
   "metadata": {},
   "source": [
    "We used distance in radians. Converting to arcseconds... (We might want to change this later and use `astropy.units`."
   ]
  },
  {
   "cell_type": "code",
   "execution_count": 33,
   "metadata": {},
   "outputs": [],
   "source": [
    "distance = distance*180/np.pi*3600"
   ]
  },
  {
   "cell_type": "markdown",
   "metadata": {},
   "source": [
    "We don't care about the null match"
   ]
  },
  {
   "cell_type": "code",
   "execution_count": 37,
   "metadata": {},
   "outputs": [],
   "source": [
    "distance = distance[:,1]\n",
    "indices = indices[:,1]"
   ]
  },
  {
   "cell_type": "markdown",
   "metadata": {},
   "source": [
    "### Getting other properties of the nearest neighbor"
   ]
  },
  {
   "cell_type": "code",
   "execution_count": 229,
   "metadata": {},
   "outputs": [],
   "source": [
    "shear_bias = data['shear_true']-data['mcal_g']"
   ]
  },
  {
   "cell_type": "code",
   "execution_count": 230,
   "metadata": {},
   "outputs": [],
   "source": [
    "from scipy.stats import binned_statistic\n",
    "from scipy.stats import binned_statistic_2d"
   ]
  },
  {
   "cell_type": "code",
   "execution_count": 231,
   "metadata": {},
   "outputs": [],
   "source": [
    "cut = np.logical_and(np.fabs(shear_bias[:,0])<1000,np.fabs(shear_bias[:,1])<1000)"
   ]
  },
  {
   "cell_type": "code",
   "execution_count": 232,
   "metadata": {},
   "outputs": [],
   "source": [
    "def compute_stats(distance,y,cut=[],bins=30,r=(0,30)):\n",
    "    bias1, bin_edges, _ = binned_statistic(distance[cut],y[cut],statistic='mean',bins=bins,range=r)\n",
    "    dbias1, bin_edges, _ = binned_statistic(distance[cut],y[cut],statistic='std',bins=bins,range=r)\n",
    "    counts1, bin_edges, _ = binned_statistic(distance[cut],y[cut],statistic='count',bins=bins,range=r)\n",
    "    bin_center = 0.5*(bin_edges[1:]+bin_edges[:-1])\n",
    "    return bias1, dbias1/np.sqrt(counts1), bin_center"
   ]
  },
  {
   "cell_type": "code",
   "execution_count": 233,
   "metadata": {},
   "outputs": [
    {
     "name": "stderr",
     "output_type": "stream",
     "text": [
      "/usr/common/software/python/3.6-anaconda-4.4/lib/python3.6/site-packages/ipykernel_launcher.py:6: RuntimeWarning: invalid value encountered in true_divide\n",
      "  \n"
     ]
    }
   ],
   "source": [
    "b1, db1, bc = compute_stats(distance,shear_bias[:,0],cut)\n",
    "b2, db2, bc = compute_stats(distance,shear_bias[:,1],cut)"
   ]
  },
  {
   "cell_type": "code",
   "execution_count": 234,
   "metadata": {},
   "outputs": [],
   "source": [
    "import matplotlib.pyplot as plt\n",
    "%matplotlib inline"
   ]
  },
  {
   "cell_type": "code",
   "execution_count": 235,
   "metadata": {},
   "outputs": [
    {
     "data": {
      "image/png": "[encoded data removed]",
      "text/plain": [
       "<matplotlib.figure.Figure at 0x2b0dab6349e8>"
      ]
     },
     "metadata": {},
     "output_type": "display_data"
    }
   ],
   "source": [
    "plt.errorbar(bc,b1,db1,marker='o',linestyle='none',label=r'$\\Delta\\gamma_{1}$')\n",
    "plt.errorbar(bc,b2,db2,marker='o',linestyle='none',label=r'$\\Delta\\gamma_{2}$')\n",
    "plt.xlabel('Distance to the first neighbor [arcseconds]')\n",
    "plt.ylabel('Mean shear-bias')\n",
    "plt.legend(loc='best')\n",
    "plt.grid()"
   ]
  },
  {
   "cell_type": "code",
   "execution_count": 236,
   "metadata": {},
   "outputs": [],
   "source": [
    "# multiplicative bias as function of NN distance in bins by SNR\n",
    "\n",
    "def gen_plot(x, y, bin_by, num_bins):\n",
    "    bins = np.linspace(np.min(bin_by), np.max(bin_by), num_bins+1)\n",
    "    for i in range(num_bins):\n",
    "        inds = np.where(np.logical_and(bin_by > bins[i],bin_by < bins[i+1]))\n",
    "        b1, db1, bc = compute_stats(x,y,inds)\n",
    "        plt.errorbar(bc,b1,db1,marker='o',linestyle='none')"
   ]
  },
  {
   "cell_type": "code",
   "execution_count": 237,
   "metadata": {},
   "outputs": [
    {
     "name": "stderr",
     "output_type": "stream",
     "text": [
      "/usr/common/software/python/3.6-anaconda-4.4/lib/python3.6/site-packages/ipykernel_launcher.py:6: RuntimeWarning: invalid value encountered in true_divide\n",
      "  \n"
     ]
    },
    {
     "data": {
      "image/png": "[encoded data removed]",
      "text/plain": [
       "<matplotlib.figure.Figure at 0x2b0da369db00>"
      ]
     },
     "metadata": {},
     "output_type": "display_data"
    }
   ],
   "source": [
    "gen_plot(distance[cut], shear_bias[:,0][cut], data['mcal_s2n_r'][cut], 3)"
   ]
  },
  {
   "cell_type": "code",
   "execution_count": 249,
   "metadata": {},
   "outputs": [],
   "source": [
    "#3 bins in shear, after selecting in snr and distance\n",
    "bin_over = [distance[cut] , data['mcal_s2n_r'][cut]]\n",
    "distance_bins = np.arange(0,22,2)\n",
    "snr_bins = np.arange(0,25,5)\n",
    "unique_g = np.unique(data['shear_true'][:,1])\n",
    "dg = unique_g[2]-unique_g[1]\n",
    "mean_bias = np.zeros((len(np.unique(data['shear_true'][:,1])),len(distance_bins)-1,len(snr_bins)-1))\n",
    "std_bias = np.zeros_like(mean_bias)\n",
    "bins = [distance_bins,snr_bins]\n",
    "for i,ishear in enumerate(np.unique(data['shear_true'][:,1])):\n",
    "    new_cut = np.logical_and(cut,np.fabs(data['shear_true'][:,1]-ishear)<0.005)\n",
    "    mean_bias[i,:,:], binx,biny, _ = binned_statistic_2d(distance[new_cut] , data['mcal_s2n_r'][new_cut], shear_bias[:,0][new_cut], bins=bins)\n",
    "    std_bias[i,:,:], binx,biny, _ = binned_statistic_2d(distance[new_cut] , data['mcal_s2n_r'][new_cut], shear_bias[:,0][new_cut], statistic='std', bins=bins)\n",
    "    mult_bias = (mean_bias[2,:,:]-mean_bias[1,:,:])/dg\n",
    "    dmult_bias = 1./dg*np.sqrt(std_bias[2,:,:]**2+std_bias[1,:,:]**2)"
   ]
  },
  {
   "cell_type": "code",
   "execution_count": 250,
   "metadata": {},
   "outputs": [
    {
     "data": {
      "text/plain": [
       "array([[ 27.65380413,  -2.18861228, -10.0119502 ,  -6.79726202],\n",
       "       [  3.01160706,  -0.20614444,   1.59407444,  -0.58840392],\n",
       "       [ -2.14230248,  -0.50112921,  -0.15748155,  -1.274062  ],\n",
       "       [  0.86385623,   0.59486543,  -1.59156358,   4.5119849 ],\n",
       "       [  1.22600673,   2.11101696,  -1.79231945,  -2.36965166],\n",
       "       [ -1.81256393,  -0.61400649,  -4.27734811,   4.70218653],\n",
       "       [  3.64368343,   1.42043901,  -1.066947  ,  -8.75420061],\n",
       "       [ -1.37931315,  -1.58268347, -12.10926245,  -6.09977758],\n",
       "       [ -4.06830332,  -6.11345938,   0.35086226,  -9.11541758],\n",
       "       [         nan,   5.93065385,  12.73364978, -28.02524724]])"
      ]
     },
     "execution_count": 250,
     "metadata": {},
     "output_type": "execute_result"
    }
   ],
   "source": [
    "mult_bias"
   ]
  },
  {
   "cell_type": "code",
   "execution_count": 252,
   "metadata": {},
   "outputs": [
    {
     "data": {
      "image/png": "[encoded data removed]",
      "text/plain": [
       "<matplotlib.figure.Figure at 0x2b0dac50bf98>"
      ]
     },
     "metadata": {},
     "output_type": "display_data"
    }
   ],
   "source": [
    "for i in range(len(snr_bins)-1):\n",
    "    plt.errorbar(0.5*distance_bins[1:]+0.5*distance_bins[:-1],mult_bias[:,i],dmult_bias[:,i],label=r'%.1f $\\geq$ SNR<%.1f' %(snr_bins[i],snr_bins[i+1]))\n",
    "plt.xlabel('Distance to neighbors [arcsec]')\n",
    "plt.legend(loc='best')\n",
    "plt.ylabel('$m$ Multiplicative bias')\n",
    "plt.grid()"
   ]
  },
  {
   "cell_type": "markdown",
   "metadata": {},
   "source": [
    "## Transform any parameters as necessary"
   ]
  },
  {
   "cell_type": "markdown",
   "metadata": {},
   "source": [
    "### Multiplicative shear bias"
   ]
  },
  {
   "cell_type": "markdown",
   "metadata": {},
   "source": [
    "### Mean shear"
   ]
  },
  {
   "cell_type": "markdown",
   "metadata": {},
   "source": [
    "## Plot all the things"
   ]
  },
  {
   "cell_type": "markdown",
   "metadata": {},
   "source": []
  }
 ],
 "metadata": {
  "kernelspec": {
   "display_name": "Python 3",
   "language": "python",
   "name": "python3"
  },
  "language_info": {
   "codemirror_mode": {
    "name": "ipython",
    "version": 3
   },
   "file_extension": ".py",
   "mimetype": "text/x-python",
   "name": "python",
   "nbconvert_exporter": "python",
   "pygments_lexer": "ipython3",
   "version": "3.6.1"
  }
 },
 "nbformat": 4,
 "nbformat_minor": 2
}
