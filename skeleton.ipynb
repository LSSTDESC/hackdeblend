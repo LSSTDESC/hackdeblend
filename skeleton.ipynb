{
 "cells": [
  {
   "cell_type": "markdown",
   "metadata": {},
   "source": [
    "_Alex Malz (NYU)_, _Javier Sanchez (UCI)_, & Others\n",
    "\n",
    "_(Add your name here when contributing.)_\n",
    "\n",
    "# Hack 'de Blend\n",
    "\n",
    "This notebook outlines an approach to studying the systematics of Erin Sheldon's MOF pipeline due to blending as a function of (1) nearest neighbor distance and (2) nearest neighbor flux/magnitude."
   ]
  },
  {
   "cell_type": "code",
   "execution_count": 16,
   "metadata": {},
   "outputs": [],
   "source": [
    "import timeit\n",
    "\n",
    "import astropy as ap\n",
    "from astropy.io import fits\n",
    "from astropy.table import Table\n",
    "\n",
    "import pandas as pd\n",
    "\n",
    "import fitsio\n",
    "import numpy as np\n",
    "import glob\n",
    "import os\n",
    "\n",
    "import _pickle as cpkl\n",
    "\n",
    "from sklearn.neighbors import KDTree\n",
    "\n",
    "from scipy.stats import binned_statistic\n",
    "from scipy.stats import binned_statistic_2d\n",
    "\n",
    "import matplotlib.pyplot as plt\n",
    "%matplotlib inline"
   ]
  },
  {
   "cell_type": "markdown",
   "metadata": {},
   "source": [
    "## Data\n",
    "\n",
    "The data lives [on NERSC](/global/projecta/projectdirs/lsst/groups/WL/users/esheldon/nbrsim-outputs/collated/) and includes the following information in 5 150 GB `FITS` tables:"
   ]
  },
  {
   "cell_type": "markdown",
   "metadata": {},
   "source": [
    "__HDU 0__:\n",
    "\n",
    "SIMPLE  =                    T / file does conform to FITS standard\n",
    "\n",
    "BITPIX  =                   16 / number of bits per data pixel\n",
    "\n",
    "NAXIS   =                    0 / number of data axes\n",
    "\n",
    "EXTEND  =                    T / FITS dataset may contain extensions\n",
    "\n",
    "COMMENT   FITS (Flexible Image Transport System) format is defined in 'Astronomy\n",
    "\n",
    "COMMENT   and Astrophysics', volume 376, page 359; bibcode: 2001A&A...376..359H"
   ]
  },
  {
   "cell_type": "markdown",
   "metadata": {},
   "source": [
    "__HDU 1__:\n",
    "\n",
    "XTENSION= 'BINTABLE'           / binary table extension\n",
    "\n",
    "BITPIX  =                    8 / 8-bit bytes\n",
    "\n",
    "NAXIS   =                    2 / 2-dimensional binary table\n",
    "\n",
    "NAXIS1  =                 3040 / width of table in bytes\n",
    "\n",
    "NAXIS2  =             52433036 / number of rows in table\n",
    "\n",
    "PCOUNT  =                    0 / size of special data area\n",
    "\n",
    "GCOUNT  =                    1 / one data group (required keyword)\n",
    "\n",
    "TFIELDS =                   80 / number of fields in each row\n",
    "\n",
    "TTYPE1  = 'id      '           / label for field   1\n",
    "\n",
    "<TFORM1  = 'K       '           / data format of field: 8-byte INTEGER>\n",
    "\n",
    "TTYPE2  = 'number  '           / label for field   2\n",
    "\n",
    "<TFORM2  = 'J       '           / data format of field: 4-byte INTEGER>\n",
    "\n",
    "TTYPE3  = 'ra      '           / label for field   3\n",
    "\n",
    "<TFORM3  = 'D       '           / data format of field: 8-byte DOUBLE>\n",
    "\n",
    "TTYPE4  = 'dec     '           / label for field   4\n",
    "\n",
    "<TFORM4  = 'D       '           / data format of field: 8-byte DOUBLE>\n",
    "\n",
    "TTYPE5  = 'nimage_tot'         / label for field   5\n",
    "\n",
    "<TFORM5  = 'J       '           / data format of field: 4-byte INTEGER>\n",
    "\n",
    "TTYPE6  = 'fofid   '           / label for field   6\n",
    "\n",
    "<TFORM6  = 'K       '           / data format of field: 8-byte INTEGER>\n",
    "\n",
    "TTYPE7  = 'flags   '           / label for field   7\n",
    "\n",
    "<TFORM7  = 'J       '           / data format of field: 4-byte INTEGER>\n",
    "\n",
    "TTYPE8  = 'time_last_fit'      / label for field   8\n",
    "\n",
    "<TFORM8  = 'D       '           / data format of field: 8-byte DOUBLE>\n",
    "\n",
    "TTYPE9  = 'box_size'           / label for field   9\n",
    "\n",
    "<TFORM9  = 'I       '           / data format of field: 2-byte INTEGER>\n",
    "\n",
    "TTYPE10 = 'obj_flags'          / label for field  10\n",
    "\n",
    "<TFORM10 = 'J       '           / data format of field: 4-byte INTEGER>\n",
    "\n",
    "TTYPE11 = 'psf_flags'          / label for field  11\n",
    "\n",
    "<TFORM11 = 'J       '           / data format of field: 4-byte INTEGER>\n",
    "\n",
    "TTYPE12 = 'psf_flux'           / label for field  12\n",
    "\n",
    "<TFORM12 = 'D       '           / data format of field: 8-byte DOUBLE>\n",
    "\n",
    "TTYPE13 = 'psf_flux_err'       / label for field  13\n",
    "\n",
    "<TFORM13 = 'D       '           / data format of field: 8-byte DOUBLE>\n",
    "\n",
    "TTYPE14 = 'psf_flux_s2n'       / label for field  14\n",
    "\n",
    "<TFORM14 = 'D       '           / data format of field: 8-byte DOUBLE>\n",
    "\n",
    "TTYPE15 = 'nimage_use'         / label for field  15\n",
    "\n",
    "<TFORM15 = 'J       '           / data format of field: 4-byte INTEGER>\n",
    "\n",
    "TTYPE16 = 'mask_frac'          / label for field  16\n",
    "\n",
    "<TFORM16 = 'D       '           / data format of field: 8-byte DOUBLE>\n",
    "\n",
    "TTYPE17 = 'psfrec_T'           / label for field  17\n",
    "\n",
    "<TFORM17 = 'D       '           / data format of field: 8-byte DOUBLE>\n",
    "\n",
    "TTYPE18 = 'psfrec_g'           / label for field  18\n",
    "\n",
    "<TFORM18 = '2D      '           / data format of field: 8-byte DOUBLE>\n",
    "\n",
    "TTYPE19 = 'gauss_flags'        / label for field  19\n",
    "\n",
    "<TFORM19 = 'J       '           / data format of field: 4-byte INTEGER>\n",
    "\n",
    "TTYPE20 = 'gauss_pars'         / label for field  20\n",
    "\n",
    "<TFORM20 = '6D      '           / data format of field: 8-byte DOUBLE>\n",
    "\n",
    "TTYPE21 = 'gauss_pars_cov'     / label for field  21\n",
    "\n",
    "<TFORM21 = '36D     '           / data format of field: 8-byte DOUBLE>\n",
    "\n",
    "TTYPE22 = 'gauss_g '           / label for field  22\n",
    "\n",
    "<TFORM22 = '2D      '           / data format of field: 8-byte DOUBLE>\n",
    "\n",
    "TTYPE23 = 'gauss_g_cov'        / label for field  23\n",
    "\n",
    "<TFORM23 = '4D      '           / data format of field: 8-byte DOUBLE>\n",
    "\n",
    "TTYPE24 = 'gauss_max_flags'    / label for field  24\n",
    "\n",
    "<TFORM24 = 'J       '           / data format of field: 4-byte INTEGER>\n",
    "\n",
    "TTYPE25 = 'gauss_max_pars'     / label for field  25\n",
    "\n",
    "<TFORM25 = '6D      '           / data format of field: 8-byte DOUBLE>\n",
    "\n",
    "TTYPE26 = 'gauss_max_pars_cov' / label for field  26\n",
    "\n",
    "<TFORM26 = '36D     '           / data format of field: 8-byte DOUBLE>\n",
    "\n",
    "TTYPE27 = 'gauss_s2n_w'        / label for field  27\n",
    "\n",
    "<TFORM27 = 'D       '           / data format of field: 8-byte DOUBLE>\n",
    "\n",
    "TTYPE28 = 'gauss_chi2per'      / label for field  28\n",
    "\n",
    "<TFORM28 = 'D       '           / data format of field: 8-byte DOUBLE>\n",
    "\n",
    "TTYPE29 = 'gauss_dof'          / label for field  29\n",
    "\n",
    "<TFORM29 = 'D       '           / data format of field: 8-byte DOUBLE>\n",
    "\n",
    "TTYPE30 = 'gauss_flags_r'      / label for field  30\n",
    "\n",
    "<TFORM30 = 'J       '           / data format of field: 4-byte INTEGER>\n",
    "\n",
    "TTYPE31 = 'gauss_s2n_r'        / label for field  31\n",
    "\n",
    "<TFORM31 = 'D       '           / data format of field: 8-byte DOUBLE>\n",
    "\n",
    "TTYPE32 = 'gauss_T_r'          / label for field  32\n",
    "\n",
    "<TFORM32 = 'D       '           / data format of field: 8-byte DOUBLE>\n",
    "\n",
    "TTYPE33 = 'gauss_psf_T_r'      / label for field  33\n",
    "\n",
    "<TFORM33 = 'D       '           / data format of field: 8-byte DOUBLE>\n",
    "\n",
    "TTYPE34 = 'mcal_flags'         / label for field  34\n",
    "\n",
    "<TFORM34 = 'K       '           / data format of field: 8-byte INTEGER>\n",
    "\n",
    "TTYPE35 = 'mcal_g  '           / label for field  35\n",
    "\n",
    "<TFORM35 = '2D      '           / data format of field: 8-byte DOUBLE>\n",
    "\n",
    "TTYPE36 = 'mcal_g_cov'         / label for field  36\n",
    "\n",
    "<TFORM36 = '4D      '           / data format of field: 8-byte DOUBLE>\n",
    "\n",
    "TTYPE37 = 'mcal_pars'          / label for field  37\n",
    "\n",
    "<TFORM37 = '6D      '           / data format of field: 8-byte DOUBLE>\n",
    "\n",
    "TTYPE38 = 'mcal_pars_cov'      / label for field  38\n",
    "\n",
    "<TFORM38 = '36D     '           / data format of field: 8-byte DOUBLE>\n",
    "\n",
    "TTYPE39 = 'mcal_gpsf'          / label for field  39\n",
    "\n",
    "<TFORM39 = '2D      '           / data format of field: 8-byte DOUBLE>\n",
    "\n",
    "TTYPE40 = 'mcal_Tpsf'          / label for field  40\n",
    "\n",
    "<TFORM40 = 'D       '           / data format of field: 8-byte DOUBLE>\n",
    "\n",
    "TTYPE41 = 'mcal_T  '           / label for field  41\n",
    "\n",
    "<TFORM41 = 'D       '           / data format of field: 8-byte DOUBLE>\n",
    "\n",
    "TTYPE42 = 'mcal_T_err'         / label for field  42\n",
    "\n",
    "<TFORM42 = 'D       '           / data format of field: 8-byte DOUBLE>\n",
    "\n",
    "TTYPE43 = 'mcal_T_r'           / label for field  43\n",
    "\n",
    "<TFORM43 = 'D       '           / data format of field: 8-byte DOUBLE>\n",
    "\n",
    "TTYPE44 = 'mcal_s2n_r'         / label for field  44\n",
    "\n",
    "<TFORM44 = 'D       '           / data format of field: 8-byte DOUBLE>\n",
    "\n",
    "TTYPE45 = 'mcal_g_1p'          / label for field  45\n",
    "\n",
    "<TFORM45 = '2D      '           / data format of field: 8-byte DOUBLE>\n",
    "\n",
    "TTYPE46 = 'mcal_g_cov_1p'      / label for field  46\n",
    "\n",
    "<TFORM46 = '4D      '           / data format of field: 8-byte DOUBLE>\n",
    "\n",
    "TTYPE47 = 'mcal_pars_1p'       / label for field  47\n",
    "\n",
    "<TFORM47 = '6D      '           / data format of field: 8-byte DOUBLE>\n",
    "\n",
    "TTYPE48 = 'mcal_pars_cov_1p'   / label for field  48\n",
    "\n",
    "<TFORM48 = '36D     '           / data format of field: 8-byte DOUBLE>\n",
    "\n",
    "TTYPE49 = 'mcal_T_1p'          / label for field  49\n",
    "\n",
    "<TFORM49 = 'D       '           / data format of field: 8-byte DOUBLE>\n",
    "\n",
    "TTYPE50 = 'mcal_T_err_1p'      / label for field  50\n",
    "\n",
    "<TFORM50 = 'D       '           / data format of field: 8-byte DOUBLE>\n",
    "\n",
    "TTYPE51 = 'mcal_T_r_1p'        / label for field  51\n",
    "\n",
    "<TFORM51 = 'D       '           / data format of field: 8-byte DOUBLE>\n",
    "\n",
    "TTYPE52 = 'mcal_s2n_r_1p'      / label for field  52\n",
    "\n",
    "<TFORM52 = 'D       '           / data format of field: 8-byte DOUBLE>\n",
    "\n",
    "TTYPE53 = 'mcal_g_1m'          / label for field  53\n",
    "\n",
    "<TFORM53 = '2D      '           / data format of field: 8-byte DOUBLE>\n",
    "\n",
    "TTYPE54 = 'mcal_g_cov_1m'      / label for field  54\n",
    "\n",
    "<TFORM54 = '4D      '           / data format of field: 8-byte DOUBLE>\n",
    "\n",
    "TTYPE55 = 'mcal_pars_1m'       / label for field  55\n",
    "\n",
    "<TFORM55 = '6D      '           / data format of field: 8-byte DOUBLE>\n",
    "\n",
    "TTYPE56 = 'mcal_pars_cov_1m'   / label for field  56\n",
    "\n",
    "<TFORM56 = '36D     '           / data format of field: 8-byte DOUBLE>\n",
    "\n",
    "TTYPE57 = 'mcal_T_1m'          / label for field  57\n",
    "\n",
    "<TFORM57 = 'D       '           / data format of field: 8-byte DOUBLE>\n",
    "\n",
    "TTYPE58 = 'mcal_T_err_1m'      / label for field  58\n",
    "\n",
    "<TFORM58 = 'D       '           / data format of field: 8-byte DOUBLE>\n",
    "\n",
    "TTYPE59 = 'mcal_T_r_1m'        / label for field  59\n",
    "\n",
    "<TFORM59 = 'D       '           / data format of field: 8-byte DOUBLE>\n",
    "\n",
    "TTYPE60 = 'mcal_s2n_r_1m'      / label for field  60\n",
    "\n",
    "<TFORM60 = 'D       '           / data format of field: 8-byte DOUBLE>\n",
    "\n",
    "TTYPE61 = 'mcal_g_2p'          / label for field  61\n",
    "\n",
    "<TFORM61 = '2D      '           / data format of field: 8-byte DOUBLE>\n",
    "\n",
    "TTYPE62 = 'mcal_g_cov_2p'      / label for field  62\n",
    "\n",
    "<TFORM62 = '4D      '           / data format of field: 8-byte DOUBLE>\n",
    "\n",
    "TTYPE63 = 'mcal_pars_2p'       / label for field  63\n",
    "\n",
    "<TFORM63 = '6D      '           / data format of field: 8-byte DOUBLE>\n",
    "\n",
    "TTYPE64 = 'mcal_pars_cov_2p'   / label for field  64\n",
    "\n",
    "<TFORM64 = '36D     '           / data format of field: 8-byte DOUBLE>\n",
    "\n",
    "TTYPE65 = 'mcal_T_2p'          / label for field  65\n",
    "\n",
    "<TFORM65 = 'D       '           / data format of field: 8-byte DOUBLE>\n",
    "\n",
    "TTYPE66 = 'mcal_T_err_2p'      / label for field  66\n",
    "\n",
    "<TFORM66 = 'D       '           / data format of field: 8-byte DOUBLE>\n",
    "\n",
    "TTYPE67 = 'mcal_T_r_2p'        / label for field  67\n",
    "\n",
    "<TFORM67 = 'D       '           / data format of field: 8-byte DOUBLE>\n",
    "\n",
    "TTYPE68 = 'mcal_s2n_r_2p'      / label for field  68\n",
    "\n",
    "<TFORM68 = 'D       '           / data format of field: 8-byte DOUBLE>\n",
    "\n",
    "TTYPE69 = 'mcal_g_2m'          / label for field  69\n",
    "\n",
    "<TFORM69 = '2D      '           / data format of field: 8-byte DOUBLE>\n",
    "\n",
    "TTYPE70 = 'mcal_g_cov_2m'      / label for field  70\n",
    "\n",
    "<TFORM70 = '4D      '           / data format of field: 8-byte DOUBLE>\n",
    "\n",
    "TTYPE71 = 'mcal_pars_2m'       / label for field  71\n",
    "\n",
    "<TFORM71 = '6D      '           / data format of field: 8-byte DOUBLE>\n",
    "\n",
    "TTYPE72 = 'mcal_pars_cov_2m'   / label for field  72\n",
    "\n",
    "<TFORM72 = '36D     '           / data format of field: 8-byte DOUBLE>\n",
    "\n",
    "TTYPE73 = 'mcal_T_2m'          / label for field  73\n",
    "\n",
    "<TFORM73 = 'D       '           / data format of field: 8-byte DOUBLE>\n",
    "\n",
    "TTYPE74 = 'mcal_T_err_2m'      / label for field  74\n",
    "\n",
    "<TFORM74 = 'D       '           / data format of field: 8-byte DOUBLE>\n",
    "\n",
    "TTYPE75 = 'mcal_T_r_2m'        / label for field  75\n",
    "\n",
    "<TFORM75 = 'D       '           / data format of field: 8-byte DOUBLE>\n",
    "\n",
    "TTYPE76 = 'mcal_s2n_r_2m'      / label for field  76\n",
    "\n",
    "<TFORM76 = 'D       '           / data format of field: 8-byte DOUBLE>\n",
    "\n",
    "TTYPE77 = 'sxflags '           / label for field  77\n",
    "\n",
    "<TFORM77 = 'J       '           / data format of field: 4-byte INTEGER>\n",
    "\n",
    "TTYPE78 = 'shear_true'         / label for field  78\n",
    "\n",
    "<TFORM78 = '2D      '           / data format of field: 8-byte DOUBLE>\n",
    "\n",
    "TTYPE79 = 'shear_index'        / label for field  79\n",
    "\n",
    "<TFORM79 = 'I       '           / data format of field: 2-byte INTEGER>\n",
    "\n",
    "TTYPE80 = 'file_id '           / label for field  80\n",
    "\n",
    "<TFORM80 = 'J       '           / data format of field: 4-byte INTEGER>"
   ]
  },
  {
   "cell_type": "code",
   "execution_count": 3,
   "metadata": {},
   "outputs": [],
   "source": [
    "data_dir = '/global/projecta/projectdirs/lsst/groups/WL/users/esheldon/nbrsim-outputs/collated/'\n",
    "filename = glob.glob(os.path.join(data_dir,'*.fits'))"
   ]
  },
  {
   "cell_type": "code",
   "execution_count": 8,
   "metadata": {},
   "outputs": [
    {
     "name": "stdout",
     "output_type": "stream",
     "text": [
      "Filename: /global/projecta/projectdirs/lsst/groups/WL/users/esheldon/nbrsim-outputs/collated/run-003a-max001.fits\n",
      "No.    Name      Ver    Type      Cards   Dimensions   Format\n",
      "  0  PRIMARY       1 PrimaryHDU       6   ()      \n",
      "  1                1 BinTableHDU    181   52433036R x 80C   [K, J, D, D, J, K, J, D, I, J, J, D, D, D, J, D, D, 2D, J, 6D, 36D, 2D, 4D, J, 6D, 36D, D, D, D, J, D, D, D, K, 2D, 4D, 6D, 36D, 2D, D, D, D, D, D, 2D, 4D, 6D, 36D, D, D, D, D, 2D, 4D, 6D, 36D, D, D, D, D, 2D, 4D, 6D, 36D, D, D, D, D, 2D, 4D, 6D, 36D, D, D, D, D, J, 2D, I, J]   \n",
      "None\n",
      "52433036\n"
     ]
    }
   ],
   "source": [
    "with fits.open(data_dir + 'run-003a-max001.fits') as hdulist:\n",
    "    print(hdulist.info())\n",
    "    ngals = len(hdulist[1].data)\n",
    "    print(ngals)"
   ]
  },
  {
   "cell_type": "code",
   "execution_count": 65,
   "metadata": {},
   "outputs": [],
   "source": [
    "# params = ['ra', 'dec', 'shear_true', 'mcal_g', 'mcal_s2n_r', 'psf_flux']\n",
    "# data = {}\n",
    "# for key in params:\n",
    "#     data[key] = np.empty(0)"
   ]
  },
  {
   "cell_type": "markdown",
   "metadata": {},
   "source": [
    "warning: slow!!!"
   ]
  },
  {
   "cell_type": "code",
   "execution_count": 14,
   "metadata": {},
   "outputs": [],
   "source": [
    "# file_id = fitsio.read(str(filename[0]), columns='file_id')\n",
    "# uids = np.unique(file_id)\n",
    "# # data = np.empty_like(uids)\n",
    "# for i in range(len(uids[:10])):\n",
    "#     w, = np.where(file_id == uids[i])\n",
    "#     for key in params:\n",
    "#         data[key] = np.concatenate((data[key], fitsio.read(filename[0], rows=w, columns=key)), axis=-1)"
   ]
  },
  {
   "cell_type": "code",
   "execution_count": 24,
   "metadata": {},
   "outputs": [],
   "source": [
    "# def compute_stats(distance,y,cut=[],bins=30,r=(0,30)):\n",
    "#     bias1, bin_edges, _ = binned_statistic(distance[cut],y[cut],statistic='mean',bins=bins,range=r)\n",
    "#     dbias1, bin_edges, _ = binned_statistic(distance[cut],y[cut],statistic='std',bins=bins,range=r)\n",
    "#     counts1, bin_edges, _ = binned_statistic(distance[cut],y[cut],statistic='count',bins=bins,range=r)\n",
    "#     bin_center = 0.5*(bin_edges[1:]+bin_edges[:-1])\n",
    "#     return bias1, dbias1/np.sqrt(counts1), bin_center\n",
    "\n",
    "def compute_stats(x,y,z,bins,cut=[]):\n",
    "    b1, binx, biny, _ = binned_statistic_2d(x[cut],y[cut],z[cut],statistic='sum',bins=bins)\n",
    "    c1, binx, biny, _ = binned_statistic_2d(x[cut],y[cut],z[cut],statistic='count',bins=bins)\n",
    "    b2, binx, biny, _ = binned_statistic_2d(x[cut],y[cut],z[cut]**2,statistic='sum',bins=bins)\n",
    "    bin_center = 0.5*(bin_edges[1:]+bin_edges[:-1])\n",
    "return b1, c1, b2, bin_center"
   ]
  },
  {
   "cell_type": "code",
   "execution_count": 23,
   "metadata": {},
   "outputs": [],
   "source": [
    "indie_params = ['ra', 'dec', 'mcal_s2n_r', 'mcal_g_1p', 'mcal_g_1m', 'mcal_g_2p', 'mcal_g_2m']#, 'psf_flux']\n",
    "# indie_data = {}\n",
    "# for p in indie_params:\n",
    "#     indie_data[p] = np.empty(ngals)\n",
    "meaned_2d_params = ['shear_true', 'mcal_g']\n",
    "meaned_vecs = {}\n",
    "for p in meaned_2d_params:\n",
    "    meaned_vecs[p] = np.empty(2)\n",
    "meaned_1d_params = ['mcal_g_1p', 'mcal_g_1m', 'mcal_g_2p', 'mcal_g_2m']\n",
    "meaned_scalars = {}\n",
    "for p in meaned_1d_params:\n",
    "    meaned_scalars[p] = 0."
   ]
  },
  {
   "cell_type": "code",
   "execution_count": null,
   "metadata": {},
   "outputs": [],
   "source": [
    "filename = glob.glob(os.path.join(data_dir,'*.fits'))\n",
    "start = timeit.default_timer()\n",
    "file_ids = fitsio.read(str(filename[0]), columns='file_id')\n",
    "# print('read file_ids in '+str(timeit.default_timer()-start))\n",
    "uids = np.unique(file_ids)\n",
    "# nids = len(uids)\n",
    "nids = 10\n",
    "# g1sum = 0.0\n",
    "# n = 0\n",
    "alltime = 0.\n",
    "# chunkn = np.empty(nids)\n",
    "# d_all, dd_all, bcd_all = np.empty(nids), np.empty(nids), np.empty(nids)\n",
    "b1_all, c1_all, db1_all, bc1_all = np.empty(nids), np.empty(nids), np.empty(nids), np.empty(nids)\n",
    "b2_all, c2_all, db2_all, bc2_all = np.empty(nids), np.empty(nids), np.empty(nids), np.empty(nids)\n",
    "for i in range(nids):\n",
    "    uid = uids[i]\n",
    "    start = timeit.default_timer()\n",
    "    chunktime = 0.\n",
    "    w, = np.where(file_ids == uid)\n",
    "    indie_data = {}\n",
    "    for key in indie_params:\n",
    "        indie_data[key] = fitsio.read(filename, rows=w, columns=key)\n",
    "#         indie_data[key][n:n+len(w)] = fitsio.read(filename, rows=w, columns=key)\n",
    "    X = np.array((indie_data['ra'] * np.pi / 180, np.sin(indie_data['dec'] * np.pi / 180))).transpose()\n",
    "    tree = KDTree(X, metric='euclidean')\n",
    "    \n",
    "    distance, indices = tree.query(X, k=2, return_distance=True)\n",
    "    distance = distance * 180 / np.pi * 3600\n",
    "    distance = distance[:,1]\n",
    "    indices = indices[:,1]\n",
    "#     d_all[i], dd_all[i], bcd_all[i] = compute_stats(distance, shear_bias[:,0], sb_cut)\n",
    "    \n",
    "    R11 = (indie_data['mcal_g_1p'] - indie_data['mcal_g_1m']) / 0.02\n",
    "    R22 = (indie_data['mcal_g_2p'] - indie_data['mcal_g_2m']) / 0.02\n",
    "    shear1 = data['mcal_g'][:,0] / R11\n",
    "    shear2 = data['mcal_g'][:,1] / R22\n",
    "    shear_bias1 = indie_data['shear_true'][:,0] - shear1\n",
    "    shear_bias2 = indie_data['shear_true'][:,1] - shear2\n",
    "#     shear_bias = indie_data['shear_true'] - indie_data['mcal_g']\n",
    "    cut = np.logical_and(np.fabs(shear_bias1)<1000, np.fabs(shear_bias2)<1000, indie_data['mcal_s2n_r']>0)\n",
    "        # make some selections here\n",
    "#         keep, = numpy.where(....)\n",
    "    b1_all[i], c1_all[i], db1_all[i], bc1_all[i] = compute_stats(distance, indie_data['mcal_s2n_r'], shear_bias1, \n",
    "                                                                 cut=cut, bins=50)\n",
    "    b2_all[i], c2_all[i], db2_all[i], bc2_all[i] = compute_stats(distance, indie_data['mcal_s2n_r'], shear_bias2, \n",
    "                                                                 cut=cut, bins=50)\n",
    "#     chunksize = len(w[cut])\n",
    "#     for key in meaned_1d_params:\n",
    "#         meaned_scalars[key][i] = compute_stats(distance, indie_data['mcal_s2n_r']. \n",
    "#                                                fitsio.read(str(filename[0]), rows=w[cut], columns=key), \n",
    "#                                                cut=cut, bins=50)\n",
    "#     for key in meaned_2d_params:\n",
    "#         meaned_vecs[key] += np.sum(fitsio.read(str(filename[0]), rows=w[cut], columns=key), axis=0) / chunksize\n",
    "                                      #data['mcal_g'][keep,0]\n",
    "        # do other sums here\n",
    "#         keytime = timeit.default_timer()-start\n",
    "#         print('processed '+key+' for '+str(i)+': '+str(chunksize)+' in '+str(keytime))\n",
    "#         chunktime += keytime\n",
    "#     alltime += chunktime\n",
    "#     chunksize = len(w)\n",
    "#     chunkn[i] = chunksize\n",
    "#     n += len(chunksize)\n",
    "\n",
    "# print('processed '+str(meaned_2d_params)+' in '+str(alltime))\n",
    "    \n",
    "# for key in meaned_params:\n",
    "#     meaned_data[key] /= np.sum(chunkn)\n",
    "# g1mean = g1sum/n\n",
    "# calculate other means here"
   ]
  },
  {
   "cell_type": "code",
   "execution_count": 60,
   "metadata": {},
   "outputs": [],
   "source": [
    "# for key in params:\n",
    "#     data[key] = np.hstack(np.array(data[key]))"
   ]
  },
  {
   "cell_type": "code",
   "execution_count": 43,
   "metadata": {},
   "outputs": [],
   "source": [
    "# data_dir = '/global/projecta/projectdirs/lsst/groups/WL/users/esheldon/nbrsim-outputs/collated/'\n",
    "# filename = glob.glob(os.path.join(data_dir,'*.fits'))\n",
    "# file_id = fitsio.read(str(filename[0]), columns='file_id')\n",
    "# uids = np.unique(file_id)\n",
    "# print(uids)\n",
    "# data = np.empty_like(uids)\n",
    "# for i in range(len(uids)):\n",
    "#     w, = np.where(file_id == uids[i])\n",
    "#     print(type(fitsio.read(filename[0], rows=w)))\n",
    "# # data = np.array(data)\n",
    "\n",
    "# #will eventually loop over all filename elements"
   ]
  },
  {
   "cell_type": "code",
   "execution_count": 12,
   "metadata": {},
   "outputs": [
    {
     "name": "stdout",
     "output_type": "stream",
     "text": [
      "/global/projecta/projectdirs/lsst/groups/WL/users/esheldon/nbrsim-outputs/collated/run-003b-max001.fits\n"
     ]
    }
   ],
   "source": [
    "# print(filename[0])"
   ]
  },
  {
   "cell_type": "code",
   "execution_count": 15,
   "metadata": {},
   "outputs": [
    {
     "data": {
      "text/plain": [
       "array([ 289.38328095,  289.35200274,  289.42632974, ...,  289.48788002,\n",
       "        289.66098872,  289.52271482])"
      ]
     },
     "execution_count": 15,
     "metadata": {},
     "output_type": "execute_result"
    }
   ],
   "source": [
    "# data['ra']"
   ]
  },
  {
   "cell_type": "code",
   "execution_count": 46,
   "metadata": {},
   "outputs": [],
   "source": [
    "# np.save('/global/cscratch1/sd/jsanch87/run-003b-max001_data_arr_dict',data)\n",
    "# cpkl.dump(data, open('/global/cscratch1/sd/jsanch87/run-003b-max001_data_arr_dict'))"
   ]
  },
  {
   "cell_type": "markdown",
   "metadata": {},
   "source": [
    "For now in `$SCRATCH`, eventually we can move it to a project space"
   ]
  },
  {
   "cell_type": "markdown",
   "metadata": {},
   "source": [
    "## Calculating nearest neighbor statistics\n"
   ]
  },
  {
   "cell_type": "markdown",
   "metadata": {},
   "source": [
    "### Finding the nearest neighbor"
   ]
  },
  {
   "cell_type": "markdown",
   "metadata": {},
   "source": [
    "We use a KDTree to get the nearest neighbors since this is way faster than using the brute-force approach"
   ]
  },
  {
   "cell_type": "markdown",
   "metadata": {},
   "source": [
    "The declination axis is not actually flat so we use the sine to use a pure euclidean distance"
   ]
  },
  {
   "cell_type": "code",
   "execution_count": 47,
   "metadata": {},
   "outputs": [
    {
     "ename": "AttributeError",
     "evalue": "'numpy.ndarray' object has no attribute 'sin'",
     "output_type": "error",
     "traceback": [
      "\u001b[0;31m---------------------------------------------------------------------------\u001b[0m",
      "\u001b[0;31mAttributeError\u001b[0m                            Traceback (most recent call last)",
      "\u001b[0;32m<ipython-input-47-653c589371a5>\u001b[0m in \u001b[0;36m<module>\u001b[0;34m()\u001b[0m\n\u001b[0;32m----> 1\u001b[0;31m \u001b[0mX\u001b[0m \u001b[0;34m=\u001b[0m \u001b[0mnp\u001b[0m\u001b[0;34m.\u001b[0m\u001b[0marray\u001b[0m\u001b[0;34m(\u001b[0m\u001b[0;34m(\u001b[0m\u001b[0mdata\u001b[0m\u001b[0;34m[\u001b[0m\u001b[0;34m'ra'\u001b[0m\u001b[0;34m]\u001b[0m\u001b[0;34m*\u001b[0m\u001b[0mnp\u001b[0m\u001b[0;34m.\u001b[0m\u001b[0mpi\u001b[0m\u001b[0;34m/\u001b[0m\u001b[0;36m180\u001b[0m\u001b[0;34m,\u001b[0m\u001b[0mnp\u001b[0m\u001b[0;34m.\u001b[0m\u001b[0msin\u001b[0m\u001b[0;34m(\u001b[0m\u001b[0mdata\u001b[0m\u001b[0;34m[\u001b[0m\u001b[0;34m'dec'\u001b[0m\u001b[0;34m]\u001b[0m\u001b[0;34m*\u001b[0m\u001b[0mnp\u001b[0m\u001b[0;34m.\u001b[0m\u001b[0mpi\u001b[0m\u001b[0;34m/\u001b[0m\u001b[0;36m180\u001b[0m\u001b[0;34m)\u001b[0m\u001b[0;34m)\u001b[0m\u001b[0;34m)\u001b[0m\u001b[0;34m.\u001b[0m\u001b[0mtranspose\u001b[0m\u001b[0;34m(\u001b[0m\u001b[0;34m)\u001b[0m\u001b[0;34m\u001b[0m\u001b[0m\n\u001b[0m\u001b[1;32m      2\u001b[0m \u001b[0mtree\u001b[0m \u001b[0;34m=\u001b[0m \u001b[0mKDTree\u001b[0m\u001b[0;34m(\u001b[0m\u001b[0mX\u001b[0m\u001b[0;34m,\u001b[0m\u001b[0mmetric\u001b[0m\u001b[0;34m=\u001b[0m\u001b[0;34m'euclidean'\u001b[0m\u001b[0;34m)\u001b[0m\u001b[0;34m\u001b[0m\u001b[0m\n",
      "\u001b[0;31mAttributeError\u001b[0m: 'numpy.ndarray' object has no attribute 'sin'"
     ]
    }
   ],
   "source": [
    "X = np.array((data['ra']*np.pi/180,np.sin(data['dec']*np.pi/180))).transpose()\n",
    "tree = KDTree(X,metric='euclidean')"
   ]
  },
  {
   "cell_type": "markdown",
   "metadata": {},
   "source": [
    "### Getting the distance to the nearest neighbor"
   ]
  },
  {
   "cell_type": "markdown",
   "metadata": {},
   "source": [
    "We query just for the first two nearest neighbors (the first one is the object itself)"
   ]
  },
  {
   "cell_type": "code",
   "execution_count": 31,
   "metadata": {},
   "outputs": [],
   "source": [
    "distance, indices = tree.query(X, k=2, return_distance=True)"
   ]
  },
  {
   "cell_type": "markdown",
   "metadata": {},
   "source": [
    "We used distance in radians. Converting to arcseconds... (We might want to change this later and use `astropy.units`."
   ]
  },
  {
   "cell_type": "code",
   "execution_count": 33,
   "metadata": {},
   "outputs": [],
   "source": [
    "distance = distance*180/np.pi*3600"
   ]
  },
  {
   "cell_type": "markdown",
   "metadata": {},
   "source": [
    "We don't care about the null match"
   ]
  },
  {
   "cell_type": "code",
   "execution_count": 37,
   "metadata": {},
   "outputs": [],
   "source": [
    "distance = distance[:,1]\n",
    "indices = indices[:,1]"
   ]
  },
  {
   "cell_type": "markdown",
   "metadata": {},
   "source": [
    "### Getting other properties of the nearest neighbor"
   ]
  },
  {
   "cell_type": "code",
   "execution_count": 229,
   "metadata": {},
   "outputs": [],
   "source": [
    "shear_bias = data['shear_true']-data['mcal_g']"
   ]
  },
  {
   "cell_type": "code",
   "execution_count": 230,
   "metadata": {},
   "outputs": [],
   "source": [
    "from scipy.stats import binned_statistic\n",
    "from scipy.stats import binned_statistic_2d"
   ]
  },
  {
   "cell_type": "code",
   "execution_count": 274,
   "metadata": {},
   "outputs": [],
   "source": [
    "cut = np.logical_and(np.fabs(shear_bias[:,0])<1000,np.fabs(shear_bias[:,1])<1000)"
   ]
  },
  {
   "cell_type": "code",
   "execution_count": 232,
   "metadata": {},
   "outputs": [],
   "source": [
    "def compute_stats(distance,y,cut=[],bins=30,r=(0,30)):\n",
    "    bias1, bin_edges, _ = binned_statistic(distance[cut],y[cut],statistic='mean',bins=bins,range=r)\n",
    "    dbias1, bin_edges, _ = binned_statistic(distance[cut],y[cut],statistic='std',bins=bins,range=r)\n",
    "    counts1, bin_edges, _ = binned_statistic(distance[cut],y[cut],statistic='count',bins=bins,range=r)\n",
    "    bin_center = 0.5*(bin_edges[1:]+bin_edges[:-1])\n",
    "    return bias1, dbias1/np.sqrt(counts1), bin_center"
   ]
  },
  {
   "cell_type": "code",
   "execution_count": 233,
   "metadata": {},
   "outputs": [
    {
     "name": "stderr",
     "output_type": "stream",
     "text": [
      "/usr/common/software/python/3.6-anaconda-4.4/lib/python3.6/site-packages/ipykernel_launcher.py:6: RuntimeWarning: invalid value encountered in true_divide\n",
      "  \n"
     ]
    }
   ],
   "source": [
    "b1, db1, bc = compute_stats(distance,shear_bias[:,0],cut)\n",
    "b2, db2, bc = compute_stats(distance,shear_bias[:,1],cut)"
   ]
  },
  {
   "cell_type": "code",
   "execution_count": 234,
   "metadata": {},
   "outputs": [],
   "source": [
    "import matplotlib.pyplot as plt\n",
    "%matplotlib inline"
   ]
  },
  {
   "cell_type": "code",
   "execution_count": 235,
   "metadata": {},
   "outputs": [
    {
     "data": {
      "image/png": "[encoded data removed]",
      "text/plain": [
       "<matplotlib.figure.Figure at 0x2b0dab6349e8>"
      ]
     },
     "metadata": {},
     "output_type": "display_data"
    }
   ],
   "source": [
    "plt.errorbar(bc,b1,db1,marker='o',linestyle='none',label=r'$\\Delta\\gamma_{1}$')\n",
    "plt.errorbar(bc,b2,db2,marker='o',linestyle='none',label=r'$\\Delta\\gamma_{2}$')\n",
    "plt.xlabel('Distance to the first neighbor [arcseconds]')\n",
    "plt.ylabel('Mean shear-bias')\n",
    "plt.legend(loc='best')\n",
    "plt.grid()"
   ]
  },
  {
   "cell_type": "code",
   "execution_count": 272,
   "metadata": {},
   "outputs": [],
   "source": [
    "# multiplicative bias as function of NN distance in bins by SNR\n",
    "\n",
    "def gen_plot(x, y, bin_by, num_bins):\n",
    "    bins = np.linspace(np.min(bin_by), np.max(bin_by), num_bins+1)\n",
    "    print(bins)\n",
    "    for i in range(num_bins):\n",
    "        inds = np.where(np.logical_and(bin_by > bins[i],bin_by < bins[i+1]))[0]\n",
    "        b1, db1, bc = compute_stats(x,y,inds)\n",
    "        plt.errorbar(bc,b1,db1,marker='o',linestyle='none')"
   ]
  },
  {
   "cell_type": "code",
   "execution_count": 276,
   "metadata": {},
   "outputs": [
    {
     "name": "stdout",
     "output_type": "stream",
     "text": [
      "-9999.0 1637.43287399\n"
     ]
    }
   ],
   "source": [
    "print(np.min(data['mcal_s2n_r'][indices]),np.max(data['mcal_s2n_r'][indices]))"
   ]
  },
  {
   "cell_type": "markdown",
   "metadata": {},
   "source": [
    "We plot the mean bias for three different SNR bins"
   ]
  },
  {
   "cell_type": "code",
   "execution_count": 285,
   "metadata": {},
   "outputs": [
    {
     "name": "stdout",
     "output_type": "stream",
     "text": [
      "[    2.23412785   516.47335808  1030.71258831  1544.95181854]\n"
     ]
    },
    {
     "name": "stderr",
     "output_type": "stream",
     "text": [
      "/usr/common/software/python/3.6-anaconda-4.4/lib/python3.6/site-packages/ipykernel_launcher.py:6: RuntimeWarning: invalid value encountered in true_divide\n",
      "  \n"
     ]
    },
    {
     "data": {
      "text/plain": [
       "<matplotlib.text.Text at 0x2b0dac382ef0>"
      ]
     },
     "execution_count": 285,
     "metadata": {},
     "output_type": "execute_result"
    },
    {
     "data": {
      "image/png": "[encoded data removed]",
      "text/plain": [
       "<matplotlib.figure.Figure at 0x2b0dab6426a0>"
      ]
     },
     "metadata": {},
     "output_type": "display_data"
    }
   ],
   "source": [
    "cut2 = np.logical_and(data['mcal_s2n_r'][indices]>0,cut)\n",
    "gen_plot(distance[cut2], shear_bias[:,0][cut2], data['mcal_s2n_r'][indices][cut2], 3)\n",
    "plt.xlabel('Distance [arcsec]')\n",
    "plt.ylabel('Mean bias')"
   ]
  },
  {
   "cell_type": "markdown",
   "metadata": {},
   "source": [
    "We plot the bias as a fuction of the distance for 3 different input shear"
   ]
  },
  {
   "cell_type": "code",
   "execution_count": 287,
   "metadata": {},
   "outputs": [
    {
     "name": "stderr",
     "output_type": "stream",
     "text": [
      "/usr/common/software/python/3.6-anaconda-4.4/lib/python3.6/site-packages/ipykernel_launcher.py:6: RuntimeWarning: invalid value encountered in true_divide\n",
      "  \n"
     ]
    },
    {
     "data": {
      "text/plain": [
       "<matplotlib.text.Text at 0x2b0dab545be0>"
      ]
     },
     "execution_count": 287,
     "metadata": {},
     "output_type": "execute_result"
    },
    {
     "data": {
      "image/png": "[encoded data removed]",
      "text/plain": [
       "<matplotlib.figure.Figure at 0x2b0dab47c898>"
      ]
     },
     "metadata": {},
     "output_type": "display_data"
    }
   ],
   "source": [
    "for st in np.unique(data['shear_true'][:,1]):\n",
    "    cut3 = np.logical_and(cut,data['shear_true'][:,1]==st)\n",
    "    b_0, db_0, bc = compute_stats(distance,shear_bias[:,0],cut3)\n",
    "    plt.errorbar(bc,b_0,db_0,label='$\\gamma_{2}=%.3f' %(st))\n",
    "plt.xlabel('Distance [arcsec]')\n",
    "plt.ylabel('Mean bias')"
   ]
  },
  {
   "cell_type": "code",
   "execution_count": 269,
   "metadata": {},
   "outputs": [],
   "source": [
    "#3 bins in shear, after selecting in snr and distance\n",
    "bin_over = [distance[cut] , data['mcal_s2n_r'][cut]]\n",
    "distance_bins = np.arange(0,22,2)\n",
    "snr_bins = np.arange(0,25,5)\n",
    "unique_g = np.unique(data['shear_true'][:,1])\n",
    "dg = unique_g[2]-unique_g[1]\n",
    "mean_bias = np.zeros((len(np.unique(data['shear_true'][:,1])),len(distance_bins)-1,len(snr_bins)-1))\n",
    "std_bias = np.zeros_like(mean_bias)\n",
    "bins = [distance_bins,snr_bins]\n",
    "for i,ishear in enumerate(np.unique(data['shear_true'][:,1])):\n",
    "    new_cut = np.logical_and(cut,np.fabs(data['shear_true'][:,1]-ishear)<0.005)\n",
    "    mean_bias[i,:,:], binx,biny, _ = binned_statistic_2d(distance[new_cut] , data['mcal_s2n_r'][indices][new_cut], shear_bias[:,0][new_cut], bins=bins)\n",
    "    std_bias[i,:,:], binx,biny, _ = binned_statistic_2d(distance[new_cut] , data['mcal_s2n_r'][indices][new_cut], shear_bias[:,0][new_cut], statistic='std', bins=bins)\n",
    "    mult_bias = (mean_bias[2,:,:]-mean_bias[1,:,:])/dg\n",
    "    dmult_bias = 1./dg*np.sqrt(std_bias[2,:,:]**2+std_bias[1,:,:]**2)"
   ]
  },
  {
   "cell_type": "code",
   "execution_count": 270,
   "metadata": {},
   "outputs": [
    {
     "data": {
      "text/plain": [
       "array([[  6.64901523,  -4.0425671 ,   1.10609343, -11.92967865],\n",
       "       [ -3.56519202,   0.90211572,  -1.05576239,  -6.09883224],\n",
       "       [  0.10834472,  -1.42806756,  -0.9686831 ,   5.68482718],\n",
       "       [ -1.82220979,   0.39482146,   3.73226226,   1.90017458],\n",
       "       [  0.80693167,   0.44811734,   1.75370781,   1.61216942],\n",
       "       [ -6.83102085,  -1.21748773,   5.61938446,   1.23646091],\n",
       "       [  4.87353244,   0.06508378,  -2.02653247,  -3.06374349],\n",
       "       [ -6.61672244,  -1.0658857 ,  -1.33710448,   6.38821404],\n",
       "       [-13.15729644,   4.21003911, -11.40909453,  -9.7977893 ],\n",
       "       [         nan,  -0.32932918,          nan,          nan]])"
      ]
     },
     "execution_count": 270,
     "metadata": {},
     "output_type": "execute_result"
    }
   ],
   "source": [
    "mult_bias"
   ]
  },
  {
   "cell_type": "code",
   "execution_count": 271,
   "metadata": {},
   "outputs": [
    {
     "data": {
      "image/png": "[encoded data removed]",
      "text/plain": [
       "<matplotlib.figure.Figure at 0x2b0dab51d828>"
      ]
     },
     "metadata": {},
     "output_type": "display_data"
    }
   ],
   "source": [
    "for i in range(len(snr_bins)-1):\n",
    "    plt.errorbar(0.5*distance_bins[1:]+0.5*distance_bins[:-1],mult_bias[:,i],dmult_bias[:,i],label=r'%.1f $\\geq$ SNR$_{neigh}$<%.1f' %(snr_bins[i],snr_bins[i+1]))\n",
    "plt.xlabel('Distance to neighbors [arcsec]')\n",
    "plt.legend(loc='best')\n",
    "plt.ylabel('$m$ Multiplicative bias')\n",
    "plt.grid()"
   ]
  },
  {
   "cell_type": "markdown",
   "metadata": {},
   "source": [
    "## Transform any parameters as necessary"
   ]
  },
  {
   "cell_type": "markdown",
   "metadata": {},
   "source": [
    "### Multiplicative shear bias"
   ]
  },
  {
   "cell_type": "markdown",
   "metadata": {},
   "source": [
    "### Mean shear"
   ]
  },
  {
   "cell_type": "markdown",
   "metadata": {},
   "source": [
    "## Plot all the things"
   ]
  },
  {
   "cell_type": "markdown",
   "metadata": {},
   "source": []
  }
 ],
 "metadata": {
  "kernelspec": {
   "display_name": "Python 3",
   "language": "python",
   "name": "python3"
  },
  "language_info": {
   "codemirror_mode": {
    "name": "ipython",
    "version": 3
   },
   "file_extension": ".py",
   "mimetype": "text/x-python",
   "name": "python",
   "nbconvert_exporter": "python",
   "pygments_lexer": "ipython3",
   "version": "3.6.1"
  }
 },
 "nbformat": 4,
 "nbformat_minor": 2
}
